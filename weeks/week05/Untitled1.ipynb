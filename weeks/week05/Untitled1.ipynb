{
 "cells": [
  {
   "cell_type": "code",
   "execution_count": null,
   "metadata": {
    "collapsed": false
   },
   "outputs": [
    {
     "name": "stdout",
     "output_type": "stream",
     "text": [
      "\n",
      "      Welcome to WORD JUMBLE!!!\n",
      "\n",
      "      Unscramble the leters to make a word.\n",
      "      (press the enter key at prompt to quit)\n",
      "      \n",
      "The jumble is: iflftdciu\n"
     ]
    }
   ],
   "source": [
    "import random\n",
    "\n",
    "WORDS = (\"python\", \"jumble\", \"easy\", \"difficult\", \"answer\",  \"xylophone\")\n",
    "word = random.choice(WORDS)\n",
    "correct = word\n",
    "jumble = \"\"\n",
    "while word:\n",
    "    position = random.randrange(len(word))\n",
    "    jumble += word[position]\n",
    "    word = word[:position] + word[(position + 1):]\n",
    "print(\n",
    "\"\"\"\n",
    "      Welcome to WORD JUMBLE!!!\n",
    "\n",
    "      Unscramble the leters to make a word.\n",
    "      (press the enter key at prompt to quit)\n",
    "      \"\"\"\n",
    "      )\n",
    "print(\"The jumble is:\", jumble)\n",
    "guess = input(\"Your guess: \")\n",
    "while guess != correct and guess != \"\":\n",
    "    print(\"Sorry, that's not it\")\n",
    "    guess = input(\"Your guess: \")\n",
    "if guess == correct:\n",
    "    print(\"That's it, you guessed it!\\n\")\n",
    "print(\"Thanks for playing\")\n",
    "\n",
    "input(\"\\n\\nPress the enter key to exit\")\n"
   ]
  },
  {
   "cell_type": "code",
   "execution_count": null,
   "metadata": {
    "collapsed": true
   },
   "outputs": [],
   "source": []
  }
 ],
 "metadata": {
  "kernelspec": {
   "display_name": "Python 3",
   "language": "python",
   "name": "python3"
  },
  "language_info": {
   "codemirror_mode": {
    "name": "ipython",
    "version": 3
   },
   "file_extension": ".py",
   "mimetype": "text/x-python",
   "name": "python",
   "nbconvert_exporter": "python",
   "pygments_lexer": "ipython3",
   "version": "3.5.1"
  }
 },
 "nbformat": 4,
 "nbformat_minor": 0
}
